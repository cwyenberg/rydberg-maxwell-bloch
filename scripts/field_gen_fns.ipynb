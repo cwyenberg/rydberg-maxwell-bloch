{
 "cells": [
  {
   "cell_type": "markdown",
   "metadata": {},
   "source": [
    "# Electric field generation functions\n",
    "\n",
    "This notebook contains functions for generating the electric field profile of a gaussian laser beam, assuming propagation within a glas vapour cell of volume larger than the characteristic variations of this beam.\n",
    "\n",
    "## Beam geometry\n",
    "\n",
    "We assume that the beam is:\n",
    "+ linearly polarized in the x-dirn\n",
    "+ propagating in the z-dirn with the following form:\n",
    "$$\n",
    "E(r,z,t) = E_0 \\frac{w_0}{w(z)}\n",
    "\\text{exp}\\left(-\\frac{r^2}{w(z)^2}\\right)\n",
    "\\text{exp}\\left[-i\\left(\\pm k z - \\omega t +\\phi(z) + \\frac{k r^2}{2 R(z)}\\right)\\right]\n",
    "$$\n",
    "where $\\pm$ denotes propagation direction (counter-propagating beams being superpositions of the above). The remaining quantities are\n",
    "+ $w(z)$: beam waist profile, $w(z) = w_0 \\sqrt{1 + \\left(\\frac{z}{z_R}\\right)^2}$ for $z_R$ the Rayleigh range,\n",
    "+ $\\phi(z)$: Guoy phase shift introduced by focusing, $\\phi(z) = \\text{arctan}\\left(\\frac{z}{z_R}\\right)$\n",
    "+ $R(z)$: radius of curvature, $R(z) = z \\left[1 + \\left(\\frac{z_R}{z}\\right)^2\\right]$\n"
   ]
  }
 ],
 "metadata": {
  "language_info": {
   "name": "python"
  }
 },
 "nbformat": 4,
 "nbformat_minor": 2
}
